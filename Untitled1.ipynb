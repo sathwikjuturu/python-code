{
  "nbformat": 4,
  "nbformat_minor": 0,
  "metadata": {
    "colab": {
      "provenance": [],
      "authorship_tag": "ABX9TyPPi1AoEP5EUEGx4q9cpy9i",
      "include_colab_link": true
    },
    "kernelspec": {
      "name": "python3",
      "display_name": "Python 3"
    },
    "language_info": {
      "name": "python"
    }
  },
  "cells": [
    {
      "cell_type": "markdown",
      "metadata": {
        "id": "view-in-github",
        "colab_type": "text"
      },
      "source": [
        "<a href=\"https://colab.research.google.com/github/sathwikjuturu/python-code/blob/main/Untitled1.ipynb\" target=\"_parent\"><img src=\"https://colab.research.google.com/assets/colab-badge.svg\" alt=\"Open In Colab\"/></a>"
      ]
    },
    {
      "cell_type": "code",
      "execution_count": 1,
      "metadata": {
        "colab": {
          "base_uri": "https://localhost:8080/"
        },
        "id": "nud8EX2X3tlw",
        "outputId": "4296e20b-bb28-488f-e833-aa89edafbc89"
      },
      "outputs": [
        {
          "output_type": "stream",
          "name": "stdout",
          "text": [
            "Enter a region (country, state, or city): india\n",
            "COVID-19 Statistics for india:\n",
            "  Cases: 45035393\n",
            "  Recoveries: 0\n",
            "  Deaths: 533570\n"
          ]
        }
      ],
      "source": [
        "import requests\n",
        "\n",
        "def fetch_covid_data(region):\n",
        "    # URL for the COVID-19 statistics API\n",
        "    url = f\"https://disease.sh/v3/covid-19/countries/{region}\"\n",
        "\n",
        "    # Send a GET request to the API\n",
        "    response = requests.get(url)\n",
        "\n",
        "    # Check if the response was successful\n",
        "    if response.status_code == 200:\n",
        "        # Parse the JSON response\n",
        "        data = response.json()\n",
        "\n",
        "        # Extract relevant information\n",
        "        cases = data.get('cases', 'Data not available')\n",
        "        recoveries = data.get('recovered', 'Data not available')\n",
        "        deaths = data.get('deaths', 'Data not available')\n",
        "\n",
        "        return cases, recoveries, deaths\n",
        "    else:\n",
        "        return None, None, None\n",
        "\n",
        "def display_statistics(region):\n",
        "    cases, recoveries, deaths = fetch_covid_data(region)\n",
        "\n",
        "    if cases is not None:\n",
        "        print(f\"COVID-19 Statistics for {region}:\")\n",
        "        print(f\"  Cases: {cases}\")\n",
        "        print(f\"  Recoveries: {recoveries}\")\n",
        "        print(f\"  Deaths: {deaths}\")\n",
        "    else:\n",
        "        print(\"Unable to fetch data. Please check the region name and try again.\")\n",
        "\n",
        "def main():\n",
        "    # Allow user to input a region\n",
        "    region = input(\"Enter a region (country, state, or city): \").strip()\n",
        "    display_statistics(region)\n",
        "\n",
        "if __name__ == \"__main__\":\n",
        "    main()\n"
      ]
    }
  ]
}